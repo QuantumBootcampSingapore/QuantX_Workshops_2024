{
 "cells": [
  {
   "cell_type": "markdown",
   "id": "49ddc07f",
   "metadata": {},
   "source": [
    "## Import Libraries\n"
   ]
  },
  {
   "cell_type": "code",
   "execution_count": 1,
   "id": "947a6a82",
   "metadata": {
    "tags": []
   },
   "outputs": [
    {
     "ename": "OSError",
     "evalue": "[WinError 126] The specified module could not be found. Error loading \"C:\\Users\\jonas\\Anaconda3\\envs\\q_bootcmap\\lib\\site-packages\\torch\\lib\\cudnn_cnn_infer64_8.dll\" or one of its dependencies.",
     "output_type": "error",
     "traceback": [
      "\u001b[1;31m---------------------------------------------------------------------------\u001b[0m",
      "\u001b[1;31mOSError\u001b[0m                                   Traceback (most recent call last)",
      "Cell \u001b[1;32mIn[1], line 7\u001b[0m\n\u001b[0;32m      3\u001b[0m \u001b[38;5;28;01mimport\u001b[39;00m \u001b[38;5;21;01mpennylane\u001b[39;00m \u001b[38;5;28;01mas\u001b[39;00m \u001b[38;5;21;01mqml\u001b[39;00m\n\u001b[0;32m      5\u001b[0m \u001b[38;5;66;03m#Import Pytorch\u001b[39;00m\n\u001b[1;32m----> 7\u001b[0m \u001b[38;5;28;01mimport\u001b[39;00m \u001b[38;5;21;01mtorch\u001b[39;00m\n\u001b[0;32m      8\u001b[0m \u001b[38;5;28;01mfrom\u001b[39;00m \u001b[38;5;21;01mtorch\u001b[39;00m\u001b[38;5;21;01m.\u001b[39;00m\u001b[38;5;21;01mutils\u001b[39;00m\u001b[38;5;21;01m.\u001b[39;00m\u001b[38;5;21;01mdata\u001b[39;00m \u001b[38;5;28;01mimport\u001b[39;00m DataLoader\n\u001b[0;32m     10\u001b[0m \u001b[38;5;66;03m#Import other libraries\u001b[39;00m\n",
      "File \u001b[1;32m~\\Anaconda3\\envs\\q_bootcmap\\lib\\site-packages\\torch\\__init__.py:141\u001b[0m\n\u001b[0;32m    139\u001b[0m                 err \u001b[38;5;241m=\u001b[39m ctypes\u001b[38;5;241m.\u001b[39mWinError(ctypes\u001b[38;5;241m.\u001b[39mget_last_error())\n\u001b[0;32m    140\u001b[0m                 err\u001b[38;5;241m.\u001b[39mstrerror \u001b[38;5;241m+\u001b[39m\u001b[38;5;241m=\u001b[39m \u001b[38;5;124mf\u001b[39m\u001b[38;5;124m'\u001b[39m\u001b[38;5;124m Error loading \u001b[39m\u001b[38;5;124m\"\u001b[39m\u001b[38;5;132;01m{\u001b[39;00mdll\u001b[38;5;132;01m}\u001b[39;00m\u001b[38;5;124m\"\u001b[39m\u001b[38;5;124m or one of its dependencies.\u001b[39m\u001b[38;5;124m'\u001b[39m\n\u001b[1;32m--> 141\u001b[0m                 \u001b[38;5;28;01mraise\u001b[39;00m err\n\u001b[0;32m    143\u001b[0m     kernel32\u001b[38;5;241m.\u001b[39mSetErrorMode(prev_error_mode)\n\u001b[0;32m    146\u001b[0m \u001b[38;5;28;01mdef\u001b[39;00m \u001b[38;5;21m_preload_cuda_deps\u001b[39m(lib_folder, lib_name):\n",
      "\u001b[1;31mOSError\u001b[0m: [WinError 126] The specified module could not be found. Error loading \"C:\\Users\\jonas\\Anaconda3\\envs\\q_bootcmap\\lib\\site-packages\\torch\\lib\\cudnn_cnn_infer64_8.dll\" or one of its dependencies."
     ]
    }
   ],
   "source": [
    "#Import Pennylane\n",
    "\n",
    "import pennylane as qml\n",
    "\n",
    "#Import Pytorch\n",
    "\n",
    "import torch\n",
    "from torch.utils.data import DataLoader\n",
    "\n",
    "#Import other libraries\n",
    "\n",
    "import numpy as np\n",
    "from numpy.random import randn, randint\n",
    "import os\n",
    "import time\n",
    "import math\n",
    "import matplotlib.pyplot as plt\n",
    "from matplotlib.ticker import PercentFormatter\n"
   ]
  },
  {
   "cell_type": "code",
   "execution_count": 2,
   "id": "059fdd5d-1f09-4dda-86b6-1a9695c9c350",
   "metadata": {
    "tags": []
   },
   "outputs": [
    {
     "name": "stdout",
     "output_type": "stream",
     "text": [
      "Looking in indexes: https://download.pytorch.org/whl/cu118\n",
      "Collecting torch\n",
      "  Using cached https://download.pytorch.org/whl/cu118/torch-2.3.0%2Bcu118-cp310-cp310-win_amd64.whl (2673.0 MB)\n",
      "Collecting torchvision\n",
      "  Using cached https://download.pytorch.org/whl/cu118/torchvision-0.18.0%2Bcu118-cp310-cp310-win_amd64.whl (4.9 MB)\n",
      "Collecting torchaudio\n",
      "  Using cached https://download.pytorch.org/whl/cu118/torchaudio-2.3.0%2Bcu118-cp310-cp310-win_amd64.whl (4.0 MB)\n",
      "Requirement already satisfied: filelock in c:\\users\\jonas\\anaconda3\\envs\\q_bootcmap\\lib\\site-packages (from torch) (3.13.1)\n",
      "Requirement already satisfied: typing-extensions>=4.8.0 in c:\\users\\jonas\\anaconda3\\envs\\q_bootcmap\\lib\\site-packages (from torch) (4.11.0)\n",
      "Requirement already satisfied: sympy in c:\\users\\jonas\\anaconda3\\envs\\q_bootcmap\\lib\\site-packages (from torch) (1.12)\n",
      "Requirement already satisfied: networkx in c:\\users\\jonas\\anaconda3\\envs\\q_bootcmap\\lib\\site-packages (from torch) (3.3)\n",
      "Requirement already satisfied: jinja2 in c:\\users\\jonas\\anaconda3\\envs\\q_bootcmap\\lib\\site-packages (from torch) (3.1.3)\n",
      "Requirement already satisfied: fsspec in c:\\users\\jonas\\anaconda3\\envs\\q_bootcmap\\lib\\site-packages (from torch) (2024.2.0)\n",
      "Requirement already satisfied: mkl<=2021.4.0,>=2021.1.1 in c:\\users\\jonas\\anaconda3\\envs\\q_bootcmap\\lib\\site-packages (from torch) (2021.4.0)\n",
      "Requirement already satisfied: numpy in c:\\users\\jonas\\anaconda3\\envs\\q_bootcmap\\lib\\site-packages (from torchvision) (1.26.4)\n",
      "Requirement already satisfied: pillow!=8.3.*,>=5.3.0 in c:\\users\\jonas\\anaconda3\\envs\\q_bootcmap\\lib\\site-packages (from torchvision) (10.3.0)\n",
      "Requirement already satisfied: intel-openmp==2021.* in c:\\users\\jonas\\anaconda3\\envs\\q_bootcmap\\lib\\site-packages (from mkl<=2021.4.0,>=2021.1.1->torch) (2021.4.0)\n",
      "Requirement already satisfied: tbb==2021.* in c:\\users\\jonas\\anaconda3\\envs\\q_bootcmap\\lib\\site-packages (from mkl<=2021.4.0,>=2021.1.1->torch) (2021.11.0)\n",
      "Requirement already satisfied: MarkupSafe>=2.0 in c:\\users\\jonas\\anaconda3\\envs\\q_bootcmap\\lib\\site-packages (from jinja2->torch) (2.1.3)\n",
      "Requirement already satisfied: mpmath>=0.19 in c:\\users\\jonas\\anaconda3\\envs\\q_bootcmap\\lib\\site-packages (from sympy->torch) (1.3.0)\n",
      "Installing collected packages: torch, torchvision, torchaudio\n"
     ]
    },
    {
     "name": "stderr",
     "output_type": "stream",
     "text": [
      "ERROR: Could not install packages due to an OSError: [WinError 5] Access is denied: 'C:\\\\Users\\\\jonas\\\\Anaconda3\\\\envs\\\\q_bootcmap\\\\Lib\\\\site-packages\\\\torch\\\\lib\\\\asmjit.dll'\n",
      "Consider using the `--user` option or check the permissions.\n",
      "\n"
     ]
    }
   ],
   "source": [
    "!pip3 install torch torchvision torchaudio --index-url https://download.pytorch.org/whl/cu118"
   ]
  },
  {
   "cell_type": "markdown",
   "id": "e0fca0e6",
   "metadata": {},
   "source": [
    "# Idea"
   ]
  },
  {
   "cell_type": "markdown",
   "id": "564b88fe",
   "metadata": {},
   "source": [
    "The option pricing project had two main parts that used quantum algorithms: loading the underlying distributions, and amplitude estimation to calculate the payoff. In order to solve the former problem, Qiskit came up with the idea of using qGANs for loading the random distributions (see following tutorial):\n",
    "\n",
    "https://qiskit.org/documentation/machine-learning/tutorials/04_qgans_for_loading_random_distributions.html\n",
    "\n",
    "This is to a certain extent a question of quantum state preparation, where we are trying to find a quantum circuit that can prepare the state that describes the underlying distribution reflected in reality.\n",
    "\n",
    "However, in the process of replicating Qiskit's solution and trying to improve on it, I realized that there was no need for a discriminator. Fundamentally, GANs in general are used for generative purposes, for unsupervised learning. However, in this case, we had the ideal result already: the distribution. Thus, it seemed to me that all we needed to do was to fit the results running the QNN with just one quantum layer to the distribution (which honestly makes it not exactly a NN), bypassing the need for a discriminator."
   ]
  },
  {
   "cell_type": "markdown",
   "id": "9c7ffc4a",
   "metadata": {},
   "source": [
    "# Data"
   ]
  },
  {
   "cell_type": "markdown",
   "id": "36dd2aee",
   "metadata": {},
   "source": [
    "To demonstrate, we use a lognormal data-set. The data preparation phase consists of vectorizing (or binning) the data as with a quantum computer, we have a limited number of values we can use ($2^n$ where n is the number of qubits). For this particular example, we use 4 qubits, so we use 16 bins."
   ]
  },
  {
   "cell_type": "code",
   "execution_count": null,
   "id": "fbd0e6f7",
   "metadata": {
    "tags": []
   },
   "outputs": [],
   "source": [
    "n_qubits = 4\n",
    "n_bins = 2 ** 4"
   ]
  },
  {
   "cell_type": "markdown",
   "id": "7c109ba7",
   "metadata": {},
   "source": [
    "### Create the data"
   ]
  },
  {
   "cell_type": "code",
   "execution_count": null,
   "id": "e5470494",
   "metadata": {
    "tags": []
   },
   "outputs": [],
   "source": [
    "# Number training data samples\n",
    "N = 10000\n",
    "\n",
    "mu = 1\n",
    "sigma = 1\n",
    "data = np.random.lognormal(mean=mu, sigma=sigma, size=N)\n",
    "np.random.shuffle(data)"
   ]
  },
  {
   "cell_type": "markdown",
   "id": "e52d575f",
   "metadata": {},
   "source": [
    "### Put the data into bins"
   ]
  },
  {
   "cell_type": "code",
   "execution_count": null,
   "id": "2913cfbe",
   "metadata": {
    "tags": []
   },
   "outputs": [],
   "source": [
    "data_pre = np.round(data)\n",
    "data = data_pre[data_pre <= n_bins]\n",
    "\n",
    "bins = np.linspace(0, (n_bins - 1) , num= n_bins )\n",
    "bin_indices = np.digitize(data, bins) - 1\n",
    "data_temp = ((np.arange(n_bins) == bin_indices[:,None]).astype(int))"
   ]
  },
  {
   "cell_type": "code",
   "execution_count": null,
   "id": "60940e0b",
   "metadata": {
    "tags": []
   },
   "outputs": [],
   "source": [
    "plt.hist(bin_indices, bins = n_bins)"
   ]
  },
  {
   "cell_type": "code",
   "execution_count": null,
   "id": "acc0783d",
   "metadata": {
    "tags": []
   },
   "outputs": [],
   "source": [
    "data_dist = np.sum(data_temp, axis = 0)/10000"
   ]
  },
  {
   "cell_type": "code",
   "execution_count": null,
   "id": "322fc303",
   "metadata": {
    "tags": []
   },
   "outputs": [],
   "source": [
    "data_dist"
   ]
  },
  {
   "cell_type": "code",
   "execution_count": null,
   "id": "aa243808",
   "metadata": {
    "tags": []
   },
   "outputs": [],
   "source": [
    "fig = plt.figure()\n",
    "ax = fig.add_axes([0,0,1,1])\n",
    "y = range(n_bins)\n",
    "ax.bar(y, data_dist, alpha=0.5)\n",
    "plt.show()"
   ]
  },
  {
   "cell_type": "markdown",
   "id": "12590051",
   "metadata": {},
   "source": [
    "The variable data_dist above gives the distribution that we want to model."
   ]
  },
  {
   "cell_type": "markdown",
   "id": "fddb5076",
   "metadata": {},
   "source": [
    "# Model"
   ]
  },
  {
   "cell_type": "markdown",
   "id": "a982b7f9",
   "metadata": {},
   "source": [
    "We use Pennylane and PyTorch for this. Note that with Pennylane, it is easy to adapt to interface (like Braket or Qiskit) since we are tapping on their quantum computers."
   ]
  },
  {
   "cell_type": "code",
   "execution_count": null,
   "id": "04c2c0ad",
   "metadata": {},
   "outputs": [],
   "source": [
    "dev = qml.device(\"default.qubit\", wires= n_qubits, shots = 10000)"
   ]
  },
  {
   "cell_type": "code",
   "execution_count": null,
   "id": "c323e7b1",
   "metadata": {},
   "outputs": [],
   "source": [
    "# Number of variational layers\n",
    "q_depth = 2"
   ]
  },
  {
   "cell_type": "markdown",
   "id": "8d222ecb",
   "metadata": {},
   "source": [
    "Here we train using variational methods. \n",
    "\n",
    "Three parts of note:\n",
    "- Initial Distribution\n",
    "- Variational Quantum Circuit\n",
    "- Measurement\n"
   ]
  },
  {
   "cell_type": "code",
   "execution_count": null,
   "id": "5d92315d",
   "metadata": {},
   "outputs": [],
   "source": [
    "@qml.qnode(dev, interface='torch')\n",
    "def qnode(inputs, weights):\n",
    "    #qml.templates.AngleEmbedding(inputs, wires=range(n_qubits), rotation='Y')\n",
    "    #qml.templates.BasicEntanglerLayers(weights, wires=range(n_qubits),rotation= qml.RY)\n",
    "    \n",
    "    # Init distribution\n",
    "    for a in range(n_qubits):\n",
    "        qml.Hadamard(wires=a)\n",
    "    \n",
    "    # Variational circuit\n",
    "    for i in range(q_depth):\n",
    "        for j in range(n_qubits):\n",
    "            qml.RY(weights[2*(i*n_qubits + j) ], wires=j)\n",
    "            qml.RZ(weights[2*(i*n_qubits + j) + 1], wires=j)\n",
    "        for l in range(n_qubits):\n",
    "            if (l == (n_qubits - 1)):\n",
    "                qml.CNOT(wires=[l,0])\n",
    "            else:\n",
    "                qml.CNOT(wires=[l,l+1])\n",
    "    \n",
    "    for k in range(n_qubits):\n",
    "        qml.RY(weights[(2*q_depth * n_qubits) + k ], wires=k)\n",
    "        qml.RZ(weights[(2*q_depth * n_qubits) + k + 1], wires=k)\n",
    "    \n",
    "    # Measurement\n",
    "    return qml.probs(wires=range(n_qubits))"
   ]
  },
  {
   "cell_type": "code",
   "execution_count": null,
   "id": "6e480527",
   "metadata": {},
   "outputs": [],
   "source": [
    "n_args = 2*(q_depth +1) * n_qubits\n",
    "weight_shapes = {\"weights\": n_args}"
   ]
  },
  {
   "cell_type": "code",
   "execution_count": null,
   "id": "bfe0fcc1",
   "metadata": {},
   "outputs": [],
   "source": [
    "# Visualize the circuit\n",
    "print(qml.draw(qnode)(inputs = 0, weights = np.random.rand(n_args)))"
   ]
  },
  {
   "cell_type": "code",
   "execution_count": null,
   "id": "529e3914",
   "metadata": {},
   "outputs": [],
   "source": [
    "# Create the model \n",
    "qlayer = qml.qnn.TorchLayer(qnode, weight_shapes)\n",
    "layers = [qlayer]\n",
    "model = torch.nn.Sequential(*layers)"
   ]
  },
  {
   "cell_type": "code",
   "execution_count": null,
   "id": "46be7a8e",
   "metadata": {},
   "outputs": [],
   "source": [
    "# Define optimizer and loss function\n",
    "opt = torch.optim.Adam(model.parameters(), lr=0.001, betas=(0.5, 0.999))\n",
    "loss = torch.nn.MSELoss()"
   ]
  },
  {
   "cell_type": "markdown",
   "id": "223c1ea2",
   "metadata": {},
   "source": [
    "We take a look at the initial randomized distribution of the quantum state generated by the quantum circuit."
   ]
  },
  {
   "cell_type": "code",
   "execution_count": null,
   "id": "7c4194eb",
   "metadata": {},
   "outputs": [],
   "source": [
    "noise = torch.normal(0, 1, size=(1,4))\n",
    "\n",
    "# predict outputs\n",
    "outputs = model(noise[0])\n",
    "outputs"
   ]
  },
  {
   "cell_type": "code",
   "execution_count": null,
   "id": "76fee001",
   "metadata": {},
   "outputs": [],
   "source": [
    "fig = plt.figure()\n",
    "ax = fig.add_axes([0,0,1,1])\n",
    "y = range(16)\n",
    "ax.bar(y, outputs.detach().numpy() )\n",
    "plt.show()"
   ]
  },
  {
   "cell_type": "markdown",
   "id": "3596a2bb",
   "metadata": {},
   "source": [
    "# Training"
   ]
  },
  {
   "cell_type": "code",
   "execution_count": null,
   "id": "e7b6613f",
   "metadata": {},
   "outputs": [],
   "source": [
    "# Decide number of epochs\n",
    "n_epochs=2000\n",
    "\n",
    "# Ideal probability distribution, in correct format\n",
    "data_dist_t = torch.from_numpy(data_dist.astype(\"float32\"))"
   ]
  },
  {
   "cell_type": "code",
   "execution_count": null,
   "id": "b780454f",
   "metadata": {},
   "outputs": [],
   "source": [
    "start = time.time()\n",
    "seed = torch.normal(0, 1, size=(1, 4))\n",
    "for i in range(n_epochs):\n",
    "    if (i % 100 == 0): \n",
    "        test_data = model(seed[0])\n",
    "        fig = plt.figure()\n",
    "        ax = fig.add_axes([0,0,1,1])\n",
    "        y = range(16)\n",
    "        ax.bar(y, test_data.detach().numpy() )\n",
    "        plt.show()\n",
    "\n",
    "    # new_dist = g_model.predict(seed)\n",
    "    opt.zero_grad()\n",
    "\n",
    "    loss_evaluated = loss(model(seed[0]), data_dist_t)\n",
    "    loss_evaluated.backward()\n",
    "\n",
    "    opt.step()\n",
    "\n",
    "    if (i % 100 == 0): \n",
    "        print((i+1), loss_evaluated)\n",
    "\n",
    "end = time.time()\n",
    "print(\"Execution time\", end - start)"
   ]
  },
  {
   "cell_type": "markdown",
   "id": "f2f953eb",
   "metadata": {},
   "source": [
    "# Visualizations"
   ]
  },
  {
   "cell_type": "markdown",
   "id": "f8239986",
   "metadata": {},
   "source": [
    "Compare the real data to the one generated by the quantum state."
   ]
  },
  {
   "cell_type": "code",
   "execution_count": null,
   "id": "5d980b64",
   "metadata": {},
   "outputs": [],
   "source": [
    "fig = plt.figure()\n",
    "ax = fig.add_axes([0,0,1,1])\n",
    "y = range(16)\n",
    "ax.bar(y, model(noise[0]).detach().numpy(), alpha=0.5, label = 'QNN' )\n",
    "ax.bar(y, data_dist_t.detach().numpy(), alpha=0.5, label = 'Real' )\n",
    "ax.legend()\n",
    "plt.title(\"Probability distributions generated vs Real\")\n",
    "plt.show()"
   ]
  },
  {
   "cell_type": "code",
   "execution_count": null,
   "id": "545ac310",
   "metadata": {},
   "outputs": [],
   "source": []
  }
 ],
 "metadata": {
  "kernelspec": {
   "display_name": "Python 3 (ipykernel)",
   "language": "python",
   "name": "python3"
  },
  "language_info": {
   "codemirror_mode": {
    "name": "ipython",
    "version": 3
   },
   "file_extension": ".py",
   "mimetype": "text/x-python",
   "name": "python",
   "nbconvert_exporter": "python",
   "pygments_lexer": "ipython3",
   "version": "3.10.14"
  }
 },
 "nbformat": 4,
 "nbformat_minor": 5
}
