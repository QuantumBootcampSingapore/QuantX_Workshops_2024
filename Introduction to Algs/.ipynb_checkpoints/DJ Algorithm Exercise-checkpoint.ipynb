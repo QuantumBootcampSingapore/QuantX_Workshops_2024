{
 "cells": [
  {
   "cell_type": "markdown",
   "id": "90009b4e-282c-4185-9a93-09360304df2b",
   "metadata": {},
   "source": [
    "# Libraries"
   ]
  },
  {
   "cell_type": "code",
   "execution_count": 1,
   "id": "fc94346b-3490-48d8-946a-ea8ad145ba96",
   "metadata": {},
   "outputs": [],
   "source": [
    "import pennylane as qml\n",
    "import numpy as np"
   ]
  },
  {
   "cell_type": "markdown",
   "id": "a4bc6917",
   "metadata": {},
   "source": [
    "# Deutsch Algorithm"
   ]
  },
  {
   "cell_type": "markdown",
   "id": "66aa6085",
   "metadata": {},
   "source": [
    "## Function"
   ]
  },
  {
   "cell_type": "code",
   "execution_count": 2,
   "id": "225811ec",
   "metadata": {},
   "outputs": [],
   "source": [
    "def function_f_00(x):\n",
    "    if x == 0:\n",
    "        return 0\n",
    "    if x == 1:\n",
    "        return 0"
   ]
  },
  {
   "cell_type": "code",
   "execution_count": 3,
   "id": "c6de1964",
   "metadata": {},
   "outputs": [],
   "source": [
    "def function_f_01(x):\n",
    "    if x == 0:\n",
    "        return 1\n",
    "    if x == 1:\n",
    "        return 0"
   ]
  },
  {
   "cell_type": "code",
   "execution_count": 4,
   "id": "148921cb",
   "metadata": {},
   "outputs": [],
   "source": [
    "def function_f_10(x):\n",
    "    if x == 0:\n",
    "        return 0\n",
    "    if x == 1:\n",
    "        return 1"
   ]
  },
  {
   "cell_type": "code",
   "execution_count": 5,
   "id": "6310997b",
   "metadata": {},
   "outputs": [],
   "source": [
    "def function_f_11(x):\n",
    "    if x == 0:\n",
    "        return 1\n",
    "    if x == 1:\n",
    "        return 1"
   ]
  },
  {
   "cell_type": "markdown",
   "id": "51a559b9",
   "metadata": {},
   "source": [
    "## Oracle"
   ]
  },
  {
   "cell_type": "code",
   "execution_count": 6,
   "id": "d636a094",
   "metadata": {},
   "outputs": [],
   "source": [
    "def U(f):\n",
    "    # Takes in a function and creates the oracle\n",
    "    # Fill up the unitary for the oracle\n",
    "    u = np.array([[0,0,0,0],\n",
    "                 [0,0,0,0],\n",
    "                 [0,0,0,0],\n",
    "                 [0,0,0,0]])\n",
    "    return u"
   ]
  },
  {
   "cell_type": "markdown",
   "id": "1db93079",
   "metadata": {},
   "source": [
    "## Circuit"
   ]
  },
  {
   "cell_type": "code",
   "execution_count": 12,
   "id": "7911dd5d",
   "metadata": {},
   "outputs": [],
   "source": [
    "dev = qml.device(\"default.qubit\", wires=2, shots = 1)"
   ]
  },
  {
   "cell_type": "code",
   "execution_count": 13,
   "id": "6004f92d",
   "metadata": {},
   "outputs": [],
   "source": [
    "@qml.qnode(dev)\n",
    "def circuit():\n",
    "    \n",
    "    # Prepare Qubits\n",
    "    \n",
    "    ###\n",
    "    # Fill up\n",
    "    ###\n",
    "    \n",
    "    # Oracle\n",
    "    qml.QubitUnitary(U(function_f_00), wires = [0,1])\n",
    "    \n",
    "    ###\n",
    "    # Fill up\n",
    "    ###\n",
    "    \n",
    "    return qml.sample(wires = 0)"
   ]
  },
  {
   "cell_type": "code",
   "execution_count": 14,
   "id": "2992a07c",
   "metadata": {},
   "outputs": [
    {
     "data": {
      "text/plain": [
       "array(0, dtype=int64)"
      ]
     },
     "execution_count": 14,
     "metadata": {},
     "output_type": "execute_result"
    }
   ],
   "source": [
    "circuit()"
   ]
  },
  {
   "cell_type": "markdown",
   "id": "14424714",
   "metadata": {},
   "source": [
    "# Deutsch-Josza Algorithm"
   ]
  },
  {
   "cell_type": "markdown",
   "id": "7959ec40",
   "metadata": {},
   "source": [
    "Try it yourself!"
   ]
  },
  {
   "cell_type": "code",
   "execution_count": null,
   "id": "e9694e79",
   "metadata": {},
   "outputs": [],
   "source": []
  }
 ],
 "metadata": {
  "kernelspec": {
   "display_name": "Python 3 (ipykernel)",
   "language": "python",
   "name": "python3"
  },
  "language_info": {
   "codemirror_mode": {
    "name": "ipython",
    "version": 3
   },
   "file_extension": ".py",
   "mimetype": "text/x-python",
   "name": "python",
   "nbconvert_exporter": "python",
   "pygments_lexer": "ipython3",
   "version": "3.9.7"
  }
 },
 "nbformat": 4,
 "nbformat_minor": 5
}
