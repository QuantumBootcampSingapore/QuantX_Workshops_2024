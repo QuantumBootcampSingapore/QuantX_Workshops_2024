{
 "cells": [
  {
   "cell_type": "markdown",
   "id": "3235df45-b8b1-49c1-bbf4-42c09a8d87c3",
   "metadata": {},
   "source": [
    "# Some basic exercises to get your hands warm"
   ]
  },
  {
   "cell_type": "markdown",
   "id": "21c468f6-3972-4c97-80f2-3a40d6d86d96",
   "metadata": {},
   "source": [
    "## Single Qubit"
   ]
  },
  {
   "cell_type": "markdown",
   "id": "7810736a-f7e4-4c82-ad7b-5323692ee757",
   "metadata": {},
   "source": [
    "The single qubit is the fundamental unit of information in Quantum Computing. It is realized as an actual physical system in the hardware, but when it comes to Quantum Computing, it is instead treated as a mathematical object for use in computation!\n",
    "\n",
    "We declare a single qubit below:"
   ]
  },
  {
   "cell_type": "code",
   "execution_count": null,
   "id": "2c2629c7-c27e-48e3-a0d2-a2c02a8a52a7",
   "metadata": {},
   "outputs": [],
   "source": [
    "import pennylane as qml\n",
    "from pennylane import numpy as np"
   ]
  },
  {
   "cell_type": "code",
   "execution_count": null,
   "id": "dd1501e3-9375-406e-8fa5-dd88fb2edbe9",
   "metadata": {},
   "outputs": [],
   "source": [
    "dev = qml.device(\"lightning.qubit\", wires=1)"
   ]
  },
  {
   "cell_type": "code",
   "execution_count": null,
   "id": "3b113560-b38c-4504-92c1-24aa8e097bdd",
   "metadata": {},
   "outputs": [],
   "source": [
    "@qml.qnode(dev)\n",
    "def circuit():\n",
    "    qml.Identity(0)\n",
    "    return qml.state()"
   ]
  },
  {
   "cell_type": "code",
   "execution_count": null,
   "id": "7cc8eb00-c765-4660-8647-acd25a36a801",
   "metadata": {},
   "outputs": [],
   "source": [
    "qml.draw_mpl(circuit)()"
   ]
  },
  {
   "cell_type": "code",
   "execution_count": null,
   "id": "4141de3f-8557-422b-81bf-16ba52b7e00b",
   "metadata": {},
   "outputs": [],
   "source": [
    "circuit()"
   ]
  },
  {
   "cell_type": "markdown",
   "id": "608234f6-fc11-4e6a-8a08-a9a9333a0220",
   "metadata": {},
   "source": [
    "## Dynamics for the Single Qubit"
   ]
  },
  {
   "cell_type": "markdown",
   "id": "ea5a6c52-b621-4261-b925-9be9ec8af3f2",
   "metadata": {},
   "source": [
    "What are some things we can do with a single qubit?\n",
    "\n",
    "Look at the Braket guide for options:\n",
    "https://docs.aws.amazon.com/braket/latest/developerguide/braket-constructing-circuit.html"
   ]
  },
  {
   "cell_type": "markdown",
   "id": "46a84e91-2feb-4f0a-8bf0-5b00e033ea8d",
   "metadata": {
    "tags": []
   },
   "source": [
    "1. Create a uniform super-position of states between 0 and 1:"
   ]
  },
  {
   "cell_type": "code",
   "execution_count": null,
   "id": "42fd5b3e-ef28-4445-a62e-e5582f16a4ce",
   "metadata": {},
   "outputs": [],
   "source": [
    "@qml.qnode(dev)\n",
    "def circuit():\n",
    "    # Insert code block here ------------\n",
    "    \n",
    "    # Insert code block here ------------\n",
    "    return qml.expval(qml.PauliZ(0))"
   ]
  },
  {
   "cell_type": "code",
   "execution_count": null,
   "id": "c48fa767-3aba-40f7-a6aa-049f0cc4482d",
   "metadata": {},
   "outputs": [],
   "source": [
    "qml.draw_mpl(circuit)()"
   ]
  },
  {
   "cell_type": "code",
   "execution_count": null,
   "id": "aeb1c015-1091-4c48-922e-7c07d8f0a7e2",
   "metadata": {},
   "outputs": [],
   "source": [
    "circuit()"
   ]
  },
  {
   "cell_type": "markdown",
   "id": "e16a1d58-f20b-4de0-88e3-d739c18f9ebb",
   "metadata": {},
   "source": [
    "2. Now I don't want an even superposition, but instead I want it to be 1 approximately 25% of the time. How do I create that?\n",
    "\n",
    "Hint: Use rotation gates"
   ]
  },
  {
   "cell_type": "code",
   "execution_count": null,
   "id": "3a37f267-4d84-454a-a03a-01f70690ffca",
   "metadata": {},
   "outputs": [],
   "source": [
    "@qml.qnode(dev)\n",
    "def circuit():\n",
    "    # Insert code block here ------------\n",
    "    \n",
    "    # Insert code block here ------------\n",
    "    return qml.probs()"
   ]
  },
  {
   "cell_type": "code",
   "execution_count": null,
   "id": "c1a7f2a7-a9c6-4751-aa98-55c1690c1239",
   "metadata": {},
   "outputs": [],
   "source": [
    "circuit()"
   ]
  },
  {
   "cell_type": "markdown",
   "id": "e107dff5-37bf-4311-8c92-939af4706502",
   "metadata": {
    "tags": []
   },
   "source": [
    "3. Is that the only way I can create that? Find another way to achieve the same result."
   ]
  },
  {
   "cell_type": "code",
   "execution_count": null,
   "id": "3a73d438-5df9-4f47-a770-d8a02bab3f45",
   "metadata": {},
   "outputs": [],
   "source": [
    "@qml.qnode(dev)\n",
    "def circuit():\n",
    "    # Insert code block here ------------\n",
    "    \n",
    "    # Insert code block here ------------\n",
    "    return qml.probs()"
   ]
  },
  {
   "cell_type": "code",
   "execution_count": null,
   "id": "4c653f5e-f6f9-4cdc-aeb7-c6fcedc74696",
   "metadata": {},
   "outputs": [],
   "source": [
    "circuit()"
   ]
  },
  {
   "cell_type": "markdown",
   "id": "99bd046d-45bf-4ab7-a408-f405438d4b96",
   "metadata": {},
   "source": [
    "4. Write the code to get any probability you want for 0 and 1.\n",
    "\n",
    "Hint: Look at the matrix for rotation gates"
   ]
  },
  {
   "cell_type": "code",
   "execution_count": null,
   "id": "6442d1a3-babb-4eca-99ae-304719539caa",
   "metadata": {
    "tags": []
   },
   "outputs": [],
   "source": [
    "prob_wanted_0 = 0.15 # Can be any value"
   ]
  },
  {
   "cell_type": "code",
   "execution_count": null,
   "id": "de2c55de-f268-40c0-a6be-368736236606",
   "metadata": {
    "tags": []
   },
   "outputs": [],
   "source": [
    "rx_angle = # How do we get this?"
   ]
  },
  {
   "cell_type": "code",
   "execution_count": null,
   "id": "7c98c6b6-c5d5-4c8f-a016-33cd6baa719a",
   "metadata": {},
   "outputs": [],
   "source": [
    "@qml.qnode(dev)\n",
    "def circuit():\n",
    "    # Insert code block here ------------\n",
    "    \n",
    "    # Insert code block here ------------\n",
    "    return qml.probs()"
   ]
  },
  {
   "cell_type": "code",
   "execution_count": null,
   "id": "dcce82a9-a4a8-43e6-b877-8341d68fc2bc",
   "metadata": {},
   "outputs": [],
   "source": [
    "circuit()"
   ]
  },
  {
   "cell_type": "markdown",
   "id": "f9f2a552-ca47-46ab-aaf2-a7a188d5c301",
   "metadata": {},
   "source": [
    "## Multiple Qubits"
   ]
  },
  {
   "cell_type": "markdown",
   "id": "cacc20c1-c0ec-4ebd-be26-9bd85b24911f",
   "metadata": {},
   "source": [
    "As with classical bits, the true magic happens when we create multiple qubits and compose them together!"
   ]
  },
  {
   "cell_type": "code",
   "execution_count": null,
   "id": "8c5de4cb-23bf-477f-b789-e90a62b69b76",
   "metadata": {},
   "outputs": [],
   "source": [
    "dev = qml.device(\"lightning.qubit\", wires=3)"
   ]
  },
  {
   "cell_type": "code",
   "execution_count": null,
   "id": "894fb4b2-693a-4e6d-8503-21e28c0efe2b",
   "metadata": {},
   "outputs": [],
   "source": [
    "@qml.qnode(dev)\n",
    "def circuit():\n",
    "    qml.Identity(0)\n",
    "    qml.Identity(1)\n",
    "    qml.Identity(2)\n",
    "    return qml.state()"
   ]
  },
  {
   "cell_type": "code",
   "execution_count": null,
   "id": "94b5f4ad-7c0a-4101-9767-942912763766",
   "metadata": {},
   "outputs": [],
   "source": [
    "qml.draw_mpl(circuit)()"
   ]
  },
  {
   "cell_type": "code",
   "execution_count": null,
   "id": "a2df9c4a-30c3-4ec5-92e0-91c878a677eb",
   "metadata": {},
   "outputs": [],
   "source": [
    "circuit()"
   ]
  },
  {
   "cell_type": "markdown",
   "id": "cf6b9fec-83f8-4784-96c3-d8c750805993",
   "metadata": {},
   "source": [
    "## Dynamics with Multiple Qubits"
   ]
  },
  {
   "cell_type": "markdown",
   "id": "7d4dfc23-1b88-4c3b-8604-3d892ff71970",
   "metadata": {
    "tags": []
   },
   "source": [
    "What are some things we can do with multiple qubits? It is important to remember that dynamics with single qubits is just as important when thinking about multiple qubits."
   ]
  },
  {
   "cell_type": "markdown",
   "id": "0d01513e-8407-456e-8cff-c4c8ef4e9c2f",
   "metadata": {},
   "source": [
    "1a. First get 10 state, then turn it in 11 state using a 2 qubit gate."
   ]
  },
  {
   "cell_type": "code",
   "execution_count": null,
   "id": "920490cd-2e41-46b0-bc1c-48b818a1118e",
   "metadata": {},
   "outputs": [],
   "source": [
    "dev = qml.device(\"lightning.qubit\", wires=2)"
   ]
  },
  {
   "cell_type": "code",
   "execution_count": null,
   "id": "62522b60-7b7f-4026-ad3e-e31fbb754414",
   "metadata": {},
   "outputs": [],
   "source": [
    "@qml.qnode(dev)\n",
    "def circuit():\n",
    "    # Insert code block here ------------\n",
    "    \n",
    "    # Insert code block here ------------\n",
    "    return qml.state()"
   ]
  },
  {
   "cell_type": "code",
   "execution_count": null,
   "id": "b7683f0a-905a-4083-9d03-e6bac2f6a460",
   "metadata": {},
   "outputs": [],
   "source": [
    "circuit()"
   ]
  },
  {
   "cell_type": "markdown",
   "id": "be6f6d4b-6890-45fe-93af-c656a4da2804",
   "metadata": {},
   "source": [
    "1b. Is that the only way to get it? What would be the simplest way of getting such a state?"
   ]
  },
  {
   "cell_type": "code",
   "execution_count": null,
   "id": "eff118be-682b-4c56-ae36-fd20ce413783",
   "metadata": {},
   "outputs": [],
   "source": [
    "@qml.qnode(dev)\n",
    "def circuit():\n",
    "    # Insert code block here ------------\n",
    "    \n",
    "    # Insert code block here ------------\n",
    "    return qml.state()"
   ]
  },
  {
   "cell_type": "code",
   "execution_count": null,
   "id": "80b4bd67-b06f-4bea-b913-c093e066571c",
   "metadata": {},
   "outputs": [],
   "source": [
    "circuit()"
   ]
  },
  {
   "cell_type": "markdown",
   "id": "e0e56c5e-7a53-4f86-ab9e-246b5b6d67f2",
   "metadata": {},
   "source": [
    "2a. One of the most interesting states is the Bell state, which is an equal superposition between 00 and 11 state, as seen below:\n",
    "\n",
    "$$\\frac{|00 \\rangle + |11 \\rangle}{\\sqrt{2}}$$\n",
    "\n",
    "Create it below:"
   ]
  },
  {
   "cell_type": "code",
   "execution_count": null,
   "id": "b24a7ed2-4157-46c2-b7cb-7dd5d81c7b10",
   "metadata": {},
   "outputs": [],
   "source": [
    "@qml.qnode(dev)\n",
    "def circuit():\n",
    "    # Insert code block here ------------\n",
    "    \n",
    "    # Insert code block here ------------\n",
    "    return qml.state()"
   ]
  },
  {
   "cell_type": "code",
   "execution_count": null,
   "id": "197420f8-6119-4f02-bda9-35ce2ef15f31",
   "metadata": {},
   "outputs": [],
   "source": [
    "circuit()"
   ]
  },
  {
   "cell_type": "markdown",
   "id": "7be239a9-2623-4a1f-87bd-ea4cf07a6c5a",
   "metadata": {},
   "source": [
    "2b. Create the other Bell state, seen below:\n",
    "\n",
    "$$\\frac{|00 \\rangle - |11 \\rangle}{\\sqrt{2}}$$\n",
    "\n",
    "Create it below:"
   ]
  },
  {
   "cell_type": "code",
   "execution_count": null,
   "id": "f9e1bd86-fc5a-4cec-8f29-6ea8b7baed21",
   "metadata": {},
   "outputs": [],
   "source": [
    "@qml.qnode(dev)\n",
    "def circuit():\n",
    "    # Insert code block here ------------\n",
    "    \n",
    "    # Insert code block here ------------\n",
    "    return qml.state()"
   ]
  },
  {
   "cell_type": "code",
   "execution_count": null,
   "id": "888b25bc-1669-430e-9540-b196988986bd",
   "metadata": {},
   "outputs": [],
   "source": [
    "circuit()"
   ]
  },
  {
   "cell_type": "markdown",
   "id": "8589c8ea-d62b-4e48-9bb6-36f33ff19e62",
   "metadata": {},
   "source": [
    "3a. We know that we can apply any unitary matrix to the circuit. Try making a unitary for the CNOT gate and applying it. Repeat the exercise from 1a using it."
   ]
  },
  {
   "cell_type": "code",
   "execution_count": null,
   "id": "ec347d54-936f-4314-ab0d-ee4a7b3250ca",
   "metadata": {
    "tags": []
   },
   "outputs": [],
   "source": [
    "# Fill up the matrix\n",
    "cnot_unitary = np.array([[0, 0, 0, 0],\n",
    "                        [0, 0, 0, 0],\n",
    "                        [0, 0, 0, 0],\n",
    "                        [0, 0, 0, 0]])\n"
   ]
  },
  {
   "cell_type": "code",
   "execution_count": null,
   "id": "7ad45463-dd35-4c50-85f7-36d66c80c65a",
   "metadata": {},
   "outputs": [],
   "source": [
    "@qml.qnode(dev)\n",
    "def circuit():\n",
    "    qml.X(0)\n",
    "    qml.QubitUnitary(cnot_unitary, wires = [0,1])\n",
    "    return qml.state()"
   ]
  },
  {
   "cell_type": "code",
   "execution_count": null,
   "id": "690d1df2-e0dc-4c62-a194-d7ee452be9ea",
   "metadata": {},
   "outputs": [],
   "source": [
    "circuit()"
   ]
  },
  {
   "cell_type": "markdown",
   "id": "f7d2f957-667c-4e74-8c0f-fc3c0b1f582a",
   "metadata": {},
   "source": [
    "3b. Now create the unitary matrices for the 2 Bell states above:"
   ]
  },
  {
   "cell_type": "code",
   "execution_count": null,
   "id": "5a17f8ed-f5da-444c-87a0-edcb2826f71b",
   "metadata": {
    "tags": []
   },
   "outputs": [],
   "source": [
    "# Fill up the matrix\n",
    "bell_unitary_2a = np.array([[0, 0, 0, 0],\n",
    "                        [0, 0, 0, 0],\n",
    "                        [0, 0, 0, 0],\n",
    "                        [0, 0, 0, 0]])\n",
    "\n",
    "bell_unitary_2a"
   ]
  },
  {
   "cell_type": "code",
   "execution_count": null,
   "id": "6486276d-3062-45d7-8010-ccbf251b8834",
   "metadata": {
    "tags": []
   },
   "outputs": [],
   "source": [
    "@qml.qnode(dev)\n",
    "def circuit():\n",
    "    qml.QubitUnitary(bell_unitary_2a, wires = [0,1])\n",
    "    return qml.state()"
   ]
  },
  {
   "cell_type": "code",
   "execution_count": null,
   "id": "d9189d97-53bc-4c8d-97e0-8c35a075af06",
   "metadata": {},
   "outputs": [],
   "source": [
    "circuit()"
   ]
  },
  {
   "cell_type": "code",
   "execution_count": null,
   "id": "46388c3d-a6b6-4822-b2b4-b15a60ccf50e",
   "metadata": {
    "tags": []
   },
   "outputs": [],
   "source": [
    "bell_unitary_2b = np.array([[0, 0, 0, 0],\n",
    "                        [0, 0, 0, 0],\n",
    "                        [0, 0, 0, 0],\n",
    "                        [0, 0, 0, 0]])\n"
   ]
  },
  {
   "cell_type": "code",
   "execution_count": null,
   "id": "9188b12a-935a-4b30-9e80-2a18e290bd77",
   "metadata": {},
   "outputs": [],
   "source": [
    "@qml.qnode(dev)\n",
    "def circuit():\n",
    "    qml.QubitUnitary(bell_unitary_2b, wires = [0,1])\n",
    "    return qml.state()"
   ]
  },
  {
   "cell_type": "code",
   "execution_count": null,
   "id": "c28e7cdb-1a28-4d23-955e-6f4f0f0e4f8b",
   "metadata": {},
   "outputs": [],
   "source": [
    "circuit()"
   ]
  },
  {
   "cell_type": "markdown",
   "id": "8055def9-4611-4af1-936f-e64d0a9ba4be",
   "metadata": {
    "tags": []
   },
   "source": [
    "3c. Using the unitaries of the 2 Bell States above, create the last two Bell States:\n",
    "    \n",
    "$$\\frac{|01 \\rangle +|10 \\rangle}{\\sqrt{2}}, \\frac{|01 \\rangle - |10 \\rangle}{\\sqrt{2}}$$"
   ]
  },
  {
   "cell_type": "code",
   "execution_count": null,
   "id": "d45a146a-4ee0-45ca-b1d4-a5519fcc2f49",
   "metadata": {},
   "outputs": [],
   "source": [
    "@qml.qnode(dev)\n",
    "def circuit():\n",
    "    # Insert code block here ------------\n",
    "    \n",
    "    # Insert code block here ------------\n",
    "    return qml.state()"
   ]
  },
  {
   "cell_type": "code",
   "execution_count": null,
   "id": "e9777655-cb80-46e7-90f7-60c9cfee843a",
   "metadata": {},
   "outputs": [],
   "source": [
    "circuit()"
   ]
  },
  {
   "cell_type": "code",
   "execution_count": null,
   "id": "aef93a86-417f-4dd0-a068-3ee2b465de8a",
   "metadata": {},
   "outputs": [],
   "source": [
    "@qml.qnode(dev)\n",
    "def circuit():\n",
    "    # Insert code block here ------------\n",
    "    \n",
    "    # Insert code block here ------------\n",
    "    return qml.state()"
   ]
  },
  {
   "cell_type": "code",
   "execution_count": null,
   "id": "f0b67c5b-3cd8-46e7-bae3-314fb85b540d",
   "metadata": {},
   "outputs": [],
   "source": [
    "circuit()"
   ]
  }
 ],
 "metadata": {
  "kernelspec": {
   "display_name": "Python 3 (ipykernel)",
   "language": "python",
   "name": "python3"
  },
  "language_info": {
   "codemirror_mode": {
    "name": "ipython",
    "version": 3
   },
   "file_extension": ".py",
   "mimetype": "text/x-python",
   "name": "python",
   "nbconvert_exporter": "python",
   "pygments_lexer": "ipython3",
   "version": "3.10.14"
  }
 },
 "nbformat": 4,
 "nbformat_minor": 5
}
